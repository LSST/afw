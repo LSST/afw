{
 "metadata": {
  "name": "",
  "signature": "sha256:1349cf727de4ff0ac113ed117d63730c1c0c0328ad1e1ec8923aef65ccb6f091"
 },
 "nbformat": 3,
 "nbformat_minor": 0,
 "worksheets": [
  {
   "cells": [
    {
     "cell_type": "code",
     "collapsed": false,
     "input": [
      "import lsst.daf.persistence as dafPersist\n",
      "import lsst.afw.cameraGeom.utils as cameraGeomUtils\n",
      "import lsst.afw.display.ds9 as ds9\n",
      "import lsst.afw.display.rgb as afwRgb\n",
      "\n",
      "%matplotlib inline"
     ],
     "language": "python",
     "metadata": {},
     "outputs": []
    },
    {
     "cell_type": "code",
     "collapsed": false,
     "input": [
      "import os\n",
      "#os.environ[\"SUPRIME_DATA_DIR\"] = \"/home/astro/hsc/hsc/HSC\"\n",
      "butler = dafPersist.Butler(os.path.join(os.environ[\"SUPRIME_DATA_DIR\"]))\n",
      "#                                        \"rerun\", \"hsc-1286\", \"20150721\"))"
     ],
     "language": "python",
     "metadata": {},
     "outputs": []
    },
    {
     "cell_type": "code",
     "collapsed": false,
     "input": [
      "camera = butler.get(\"camera\")\n",
      "mos = cameraGeomUtils.showCamera(camera, \n",
      "                                 cameraGeomUtils.ButlerImage(butler, \"bias\", verbose=False), \n",
      "                                 binSize=32)\n",
      "\n",
      "afwRgb.displayRGB(afwRgb.makeRGB(*3*[mos], min=0, range=.1, Q=8))"
     ],
     "language": "python",
     "metadata": {},
     "outputs": []
    },
    {
     "cell_type": "code",
     "collapsed": false,
     "input": [
      "cameraGeomUtils=reload(cameraGeomUtils)\n",
      "\n",
      "visit0 = 1202\n",
      "for visit in (1202, 1204, 1206,):\n",
      "    mos = cameraGeomUtils.showCamera(camera, \n",
      "                                     cameraGeomUtils.ButlerImage(butler, \"calexp\", visit=visit, verbose=False), \n",
      "                                     #detectorNameList=['0_08', '0_12', '1_12', '1_16'],\n",
      "                                     binSize=8, title=visit, frame=1 + (visit - visit0)/2, textSize=2)"
     ],
     "language": "python",
     "metadata": {},
     "outputs": []
    }
   ],
   "metadata": {}
  }
 ]
}